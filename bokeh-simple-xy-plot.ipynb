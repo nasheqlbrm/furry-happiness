{
 "cells": [
  {
   "cell_type": "code",
   "execution_count": 1,
   "metadata": {
    "collapsed": false
   },
   "outputs": [
    {
     "name": "stdout",
     "output_type": "stream",
     "text": [
      "Pandas version: \n",
      "\t0.19.2\n",
      "Bokeh version: \n",
      "\t0.12.4\n",
      "Python version: \n",
      "\t3.4.5 |Anaconda custom (x86_64)| (default, Jul  2 2016, 17:47:57) \n",
      "[GCC 4.2.1 Compatible Apple LLVM 4.2 (clang-425.0.28)]\n"
     ]
    }
   ],
   "source": [
    "import pandas as pd\n",
    "import bokeh\n",
    "import sys\n",
    "\n",
    "print(\"Pandas version: \\n\\t{}\".format(pd.__version__))\n",
    "print(\"Bokeh version: \\n\\t{}\".format(bokeh.__version__))\n",
    "print(\"Python version: \\n\\t{}\".format(sys.version))"
   ]
  },
  {
   "cell_type": "code",
   "execution_count": null,
   "metadata": {
    "collapsed": true
   },
   "outputs": [],
   "source": []
  }
 ],
 "metadata": {
  "anaconda-cloud": {},
  "kernelspec": {
   "display_name": "Python [conda env:py34]",
   "language": "python",
   "name": "conda-env-py34-py"
  },
  "language_info": {
   "codemirror_mode": {
    "name": "ipython",
    "version": 3
   },
   "file_extension": ".py",
   "mimetype": "text/x-python",
   "name": "python",
   "nbconvert_exporter": "python",
   "pygments_lexer": "ipython3",
   "version": "3.4.5"
  }
 },
 "nbformat": 4,
 "nbformat_minor": 2
}
